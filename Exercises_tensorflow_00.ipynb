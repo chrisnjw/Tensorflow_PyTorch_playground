{
  "nbformat": 4,
  "nbformat_minor": 0,
  "metadata": {
    "colab": {
      "name": "Exercises_tensorflow.ipynb",
      "provenance": [],
      "authorship_tag": "ABX9TyNzzO+WUYq+BzQSjOX8EuBR",
      "include_colab_link": true
    },
    "kernelspec": {
      "name": "python3",
      "display_name": "Python 3"
    },
    "language_info": {
      "name": "python"
    }
  },
  "cells": [
    {
      "cell_type": "markdown",
      "metadata": {
        "id": "view-in-github",
        "colab_type": "text"
      },
      "source": [
        "<a href=\"https://colab.research.google.com/github/chrisnjw/Tensorflow_playground/blob/main/Exercises_tensorflow_00.ipynb\" target=\"_parent\"><img src=\"https://colab.research.google.com/assets/colab-badge.svg\" alt=\"Open In Colab\"/></a>"
      ]
    },
    {
      "cell_type": "markdown",
      "source": [
        "### 00. TensorFlow Fundamental Exercises"
      ],
      "metadata": {
        "id": "qt1HJfZWbXpw"
      }
    },
    {
      "cell_type": "code",
      "source": [
        "import tensorflow as tf"
      ],
      "metadata": {
        "id": "PGqJTeVibfJe"
      },
      "execution_count": 21,
      "outputs": []
    },
    {
      "cell_type": "code",
      "source": [
        "# Creating a scalar (described by magnitude only)\n",
        "scalar = tf.constant(8)\n",
        "print(scalar)"
      ],
      "metadata": {
        "colab": {
          "base_uri": "https://localhost:8080/"
        },
        "id": "CReonE_Cbxod",
        "outputId": "fb76409b-769e-4d4b-925e-10ed7604efd8"
      },
      "execution_count": 22,
      "outputs": [
        {
          "output_type": "stream",
          "name": "stdout",
          "text": [
            "tf.Tensor(8, shape=(), dtype=int32)\n"
          ]
        }
      ]
    },
    {
      "cell_type": "code",
      "source": [
        "# Creating a vector (described by both magnitude and direction)\n",
        "vector = tf.constant([1, 2, 3])\n",
        "vector"
      ],
      "metadata": {
        "colab": {
          "base_uri": "https://localhost:8080/"
        },
        "id": "lzKUjYXFb1cl",
        "outputId": "2f70774a-93a1-43c8-c7f6-2efaabc91b96"
      },
      "execution_count": 23,
      "outputs": [
        {
          "output_type": "execute_result",
          "data": {
            "text/plain": [
              "<tf.Tensor: shape=(3,), dtype=int32, numpy=array([1, 2, 3], dtype=int32)>"
            ]
          },
          "metadata": {},
          "execution_count": 23
        }
      ]
    },
    {
      "cell_type": "code",
      "source": [
        "# Creating a matrix \n",
        "matrix = tf.constant([[1, 2],\n",
        "                      [3, 4]])\n",
        "matrix"
      ],
      "metadata": {
        "colab": {
          "base_uri": "https://localhost:8080/"
        },
        "id": "p52sDylDck4N",
        "outputId": "27f3b774-0979-4f7b-df65-b90a2cc67f11"
      },
      "execution_count": 24,
      "outputs": [
        {
          "output_type": "execute_result",
          "data": {
            "text/plain": [
              "<tf.Tensor: shape=(2, 2), dtype=int32, numpy=\n",
              "array([[1, 2],\n",
              "       [3, 4]], dtype=int32)>"
            ]
          },
          "metadata": {},
          "execution_count": 24
        }
      ]
    },
    {
      "cell_type": "code",
      "source": [
        "# Creating a tensor\n",
        "tensor = tf.constant([[[10, 9, 8],\n",
        "                       [1,2, 4],\n",
        "                       [8, 4, 2]\n",
        "                        ],\n",
        "                       [[10, 9, 8],\n",
        "                        [1,2, 4],\n",
        "                        [8,4,2]\n",
        "                        ]\n",
        "                       ])\n",
        "print(tensor)"
      ],
      "metadata": {
        "colab": {
          "base_uri": "https://localhost:8080/"
        },
        "id": "Jlt-_GeEcu-4",
        "outputId": "7f6bfa09-c78d-4c1b-87e4-ccde3d87215b"
      },
      "execution_count": 25,
      "outputs": [
        {
          "output_type": "stream",
          "name": "stdout",
          "text": [
            "tf.Tensor(\n",
            "[[[10  9  8]\n",
            "  [ 1  2  4]\n",
            "  [ 8  4  2]]\n",
            "\n",
            " [[10  9  8]\n",
            "  [ 1  2  4]\n",
            "  [ 8  4  2]]], shape=(2, 3, 3), dtype=int32)\n"
          ]
        }
      ]
    },
    {
      "cell_type": "code",
      "source": [
        "# Finding the shape, rank and size\n",
        "print('Shape of tensor {shape_s}'.format(shape_s = tensor.shape))"
      ],
      "metadata": {
        "colab": {
          "base_uri": "https://localhost:8080/"
        },
        "id": "LgTFYofSdNWB",
        "outputId": "fbee957f-01be-4e73-d226-c2d4cb2d3823"
      },
      "execution_count": 26,
      "outputs": [
        {
          "output_type": "stream",
          "name": "stdout",
          "text": [
            "Shape of tensor (2, 3, 3)\n"
          ]
        }
      ]
    },
    {
      "cell_type": "code",
      "source": [
        "# Finding the rank (all the elements) of tensor\n",
        "print(f'The rank of the tensor: {tf.size(tensor)}')"
      ],
      "metadata": {
        "colab": {
          "base_uri": "https://localhost:8080/"
        },
        "id": "_V1UKv1VeOy1",
        "outputId": "3a7f992a-6ba6-4eae-a406-96b2a62c53ad"
      },
      "execution_count": 27,
      "outputs": [
        {
          "output_type": "stream",
          "name": "stdout",
          "text": [
            "The rank of the tensor: 18\n"
          ]
        }
      ]
    },
    {
      "cell_type": "code",
      "source": [
        "# Finding the rank of the tensor\n",
        "print(\"Rank of the tensor: {tensor_rank}\".format(tensor_rank = tf.rank(tensor)))"
      ],
      "metadata": {
        "colab": {
          "base_uri": "https://localhost:8080/"
        },
        "id": "y3hWAJkffS2r",
        "outputId": "5221c6d7-2d95-4582-d10d-cfb672b938fb"
      },
      "execution_count": 28,
      "outputs": [
        {
          "output_type": "stream",
          "name": "stdout",
          "text": [
            "Rank of the tensor: 3\n"
          ]
        }
      ]
    },
    {
      "cell_type": "code",
      "source": [
        "# Create two tensors containing random values between 0 and 1 with shape [5, 300]\n",
        "# Set seed\n",
        "tf.random.set_seed(42)\n",
        "\n",
        "# Setting up the shape\n",
        "tensor_1 = tf.random.uniform(shape=(5, 300))\n",
        "tensor_2 = tf.random.uniform(shape=(5,300))\n",
        "\n",
        "tensor_1, tensor_1.shape, tensor_2, tensor_2.shape"
      ],
      "metadata": {
        "colab": {
          "base_uri": "https://localhost:8080/"
        },
        "id": "4WwPfbMffuBs",
        "outputId": "f0d07b03-b7a1-42bc-c8d4-05022f22ebff"
      },
      "execution_count": 29,
      "outputs": [
        {
          "output_type": "execute_result",
          "data": {
            "text/plain": [
              "(<tf.Tensor: shape=(5, 300), dtype=float32, numpy=\n",
              " array([[0.6645621 , 0.44100678, 0.3528825 , ..., 0.31410468, 0.7593535 ,\n",
              "         0.03699052],\n",
              "        [0.532024  , 0.29129946, 0.10571766, ..., 0.54052293, 0.31425726,\n",
              "         0.2200619 ],\n",
              "        [0.08404207, 0.03614604, 0.97732127, ..., 0.21516645, 0.9786098 ,\n",
              "         0.00726748],\n",
              "        [0.7396945 , 0.6653172 , 0.0787828 , ..., 0.7117733 , 0.07013571,\n",
              "         0.9409125 ],\n",
              "        [0.15861344, 0.12024033, 0.27218235, ..., 0.8824879 , 0.1432488 ,\n",
              "         0.44135118]], dtype=float32)>,\n",
              " TensorShape([5, 300]),\n",
              " <tf.Tensor: shape=(5, 300), dtype=float32, numpy=\n",
              " array([[0.68789124, 0.48447883, 0.9309944 , ..., 0.6920762 , 0.33180213,\n",
              "         0.9212563 ],\n",
              "        [0.27369928, 0.10631859, 0.6218617 , ..., 0.4382149 , 0.30427706,\n",
              "         0.51477313],\n",
              "        [0.00920248, 0.37280262, 0.8177401 , ..., 0.56786287, 0.49201214,\n",
              "         0.9892651 ],\n",
              "        [0.88608265, 0.08672249, 0.12160683, ..., 0.91770685, 0.72545695,\n",
              "         0.8280058 ],\n",
              "        [0.36690474, 0.9200133 , 0.9646884 , ..., 0.69012   , 0.7137332 ,\n",
              "         0.2584542 ]], dtype=float32)>,\n",
              " TensorShape([5, 300]))"
            ]
          },
          "metadata": {},
          "execution_count": 29
        }
      ]
    },
    {
      "cell_type": "code",
      "source": [
        "# Multiply the two tensor\n",
        "print('Shape before the matrix multiplication')\n",
        "print(tensor_1.shape)\n",
        "print(tensor_2.shape)"
      ],
      "metadata": {
        "colab": {
          "base_uri": "https://localhost:8080/"
        },
        "id": "Oem-Kq9WgwHN",
        "outputId": "42fd45fe-af7f-4367-e783-c7ada1aefa30"
      },
      "execution_count": 30,
      "outputs": [
        {
          "output_type": "stream",
          "name": "stdout",
          "text": [
            "Shape before the matrix multiplication\n",
            "(5, 300)\n",
            "(5, 300)\n"
          ]
        }
      ]
    },
    {
      "cell_type": "code",
      "source": [
        "resultant_vector = tf.linalg.matmul(tensor_1, tf.transpose(tensor_2))\n",
        "print(\"After multiplying the resultant vector is : {}\".format(resultant_vector))\n",
        "print(\"Resultant vector shape: {}\".format(resultant_vector.shape))"
      ],
      "metadata": {
        "colab": {
          "base_uri": "https://localhost:8080/"
        },
        "id": "5cegXBpjhrOu",
        "outputId": "b1f849cd-f936-4854-8594-0b944d7c617e"
      },
      "execution_count": 31,
      "outputs": [
        {
          "output_type": "stream",
          "name": "stdout",
          "text": [
            "After multiplying the resultant vector is : [[80.33344  73.40498  77.15962  73.98368  80.90053 ]\n",
            " [75.146355 68.80437  74.24302  71.841835 75.60206 ]\n",
            " [79.7594   75.644554 77.797585 74.74873  80.559845]\n",
            " [75.085266 69.06406  74.307755 72.27616  76.05668 ]\n",
            " [85.056885 74.266266 78.00687  74.88678  83.13418 ]]\n",
            "Resultant vector shape: (5, 5)\n"
          ]
        }
      ]
    },
    {
      "cell_type": "code",
      "source": [
        "# Multiply using tensordot\n",
        "tf.tensordot(tensor_1, tf.transpose(tensor_2), axes=1)"
      ],
      "metadata": {
        "colab": {
          "base_uri": "https://localhost:8080/"
        },
        "id": "ybZAnrMciDFJ",
        "outputId": "4f504de1-80cc-47f9-8a61-975aab8fa27d"
      },
      "execution_count": 32,
      "outputs": [
        {
          "output_type": "execute_result",
          "data": {
            "text/plain": [
              "<tf.Tensor: shape=(5, 5), dtype=float32, numpy=\n",
              "array([[80.33344 , 73.40498 , 77.15962 , 73.98368 , 80.90053 ],\n",
              "       [75.146355, 68.80437 , 74.24302 , 71.841835, 75.60206 ],\n",
              "       [79.7594  , 75.644554, 77.797585, 74.74873 , 80.559845],\n",
              "       [75.085266, 69.06406 , 74.307755, 72.27616 , 76.05668 ],\n",
              "       [85.056885, 74.266266, 78.00687 , 74.88678 , 83.13418 ]],\n",
              "      dtype=float32)>"
            ]
          },
          "metadata": {},
          "execution_count": 32
        }
      ]
    },
    {
      "cell_type": "code",
      "source": [
        "# Create a tensor with random values between 0 and 1 with shape [224, 224, 3]\n",
        "big_tensor = tf.random.uniform(shape = [224, 224, 3], minval=0, maxval=1)\n",
        "\n",
        "big_tensor"
      ],
      "metadata": {
        "colab": {
          "base_uri": "https://localhost:8080/"
        },
        "id": "mjaqCLxfij_w",
        "outputId": "0c33bf3c-0220-4115-d363-f205f3c7fa0f"
      },
      "execution_count": 33,
      "outputs": [
        {
          "output_type": "execute_result",
          "data": {
            "text/plain": [
              "<tf.Tensor: shape=(224, 224, 3), dtype=float32, numpy=\n",
              "array([[[0.7413678 , 0.62854624, 0.01738465],\n",
              "        [0.3431449 , 0.51063764, 0.3777541 ],\n",
              "        [0.07321596, 0.02137029, 0.2871771 ],\n",
              "        ...,\n",
              "        [0.98953485, 0.45382905, 0.2006687 ],\n",
              "        [0.6295223 , 0.4937899 , 0.01816809],\n",
              "        [0.95386636, 0.11542463, 0.85691285]],\n",
              "\n",
              "       [[0.78435016, 0.7826872 , 0.87936425],\n",
              "        [0.24906898, 0.3207239 , 0.10955775],\n",
              "        [0.543224  , 0.7151396 , 0.40334642],\n",
              "        ...,\n",
              "        [0.2445668 , 0.01746976, 0.9036933 ],\n",
              "        [0.02975535, 0.592268  , 0.9877522 ],\n",
              "        [0.36701274, 0.33112562, 0.5638567 ]],\n",
              "\n",
              "       [[0.15829337, 0.7288823 , 0.3366307 ],\n",
              "        [0.70792687, 0.16910625, 0.9429966 ],\n",
              "        [0.10120225, 0.5919596 , 0.8687303 ],\n",
              "        ...,\n",
              "        [0.28134012, 0.10011208, 0.37038183],\n",
              "        [0.77874243, 0.05421627, 0.4664607 ],\n",
              "        [0.2549187 , 0.7968637 , 0.83405185]],\n",
              "\n",
              "       ...,\n",
              "\n",
              "       [[0.32922816, 0.06343532, 0.23936498],\n",
              "        [0.42692196, 0.3615111 , 0.901929  ],\n",
              "        [0.8320831 , 0.21068895, 0.08272386],\n",
              "        ...,\n",
              "        [0.65110314, 0.40780962, 0.25967455],\n",
              "        [0.9018173 , 0.8245677 , 0.16757596],\n",
              "        [0.41854453, 0.19092035, 0.2523303 ]],\n",
              "\n",
              "       [[0.7064005 , 0.222404  , 0.82219553],\n",
              "        [0.8235872 , 0.76544905, 0.80999327],\n",
              "        [0.1100682 , 0.00520217, 0.6127168 ],\n",
              "        ...,\n",
              "        [0.98068535, 0.8958733 , 0.17706168],\n",
              "        [0.4252876 , 0.02087164, 0.496238  ],\n",
              "        [0.6599953 , 0.58505726, 0.7089884 ]],\n",
              "\n",
              "       [[0.90045786, 0.45803344, 0.9050728 ],\n",
              "        [0.92233   , 0.38456154, 0.30329156],\n",
              "        [0.03238845, 0.18773472, 0.9096625 ],\n",
              "        ...,\n",
              "        [0.4445815 , 0.04578841, 0.21090853],\n",
              "        [0.25966525, 0.24412918, 0.76123405],\n",
              "        [0.9643831 , 0.32687283, 0.4828869 ]]], dtype=float32)>"
            ]
          },
          "metadata": {},
          "execution_count": 33
        }
      ]
    },
    {
      "cell_type": "code",
      "source": [
        "# Finding the minimum value of the tensor\n",
        "minimum = tf.math.reduce_min(big_tensor)\n",
        "print(\"The minimum value is : {}\".format(minimum))"
      ],
      "metadata": {
        "colab": {
          "base_uri": "https://localhost:8080/"
        },
        "id": "Rfr3Xd-TzXDR",
        "outputId": "0e0bb2d5-a892-4acd-d383-992e9f387bef"
      },
      "execution_count": 35,
      "outputs": [
        {
          "output_type": "stream",
          "name": "stdout",
          "text": [
            "The minimum value is : 2.384185791015625e-07\n"
          ]
        }
      ]
    },
    {
      "cell_type": "code",
      "source": [
        "# Finding the maximum value of the tensor\n",
        "maximum = tf.math.reduce_max(big_tensor)\n",
        "print(\"The maximum value is : {}\".format(maximum))"
      ],
      "metadata": {
        "colab": {
          "base_uri": "https://localhost:8080/"
        },
        "id": "g__TADD00-OH",
        "outputId": "51788067-ef67-4e7e-c0be-c2e3bf3f5bc4"
      },
      "execution_count": 36,
      "outputs": [
        {
          "output_type": "stream",
          "name": "stdout",
          "text": [
            "The maximum value is : 0.999991774559021\n"
          ]
        }
      ]
    },
    {
      "cell_type": "code",
      "source": [
        "# Creating a tensor with random value before squeezing it to change the shape to \n",
        "# [224, 224, 3]\n",
        "\n",
        "unsqueezed_tensor = tf.random.Generator.from_seed(42)\n",
        "unsqueezed_tensor = unsqueezed_tensor.normal(shape = (1, 224, 224, 3))\n",
        "\n",
        "# Before squeezing\n",
        "print(f'The shape after squeezing : {unsqueezed_tensor.shape}')"
      ],
      "metadata": {
        "colab": {
          "base_uri": "https://localhost:8080/"
        },
        "id": "WVq3-dcY1TYQ",
        "outputId": "45711093-5884-4b03-e6a1-1cddc4b30c23"
      },
      "execution_count": 39,
      "outputs": [
        {
          "output_type": "stream",
          "name": "stdout",
          "text": [
            "The shape after squeezing : (1, 224, 224, 3)\n"
          ]
        }
      ]
    },
    {
      "cell_type": "code",
      "source": [
        "# After squeezing \n",
        "squeezed_tensor = tf.squeeze(unsqueezed_tensor)\n",
        "print('The shape after squeezing: {}'.format(squeezed_tensor.shape))"
      ],
      "metadata": {
        "colab": {
          "base_uri": "https://localhost:8080/"
        },
        "id": "93hVXyar2W3d",
        "outputId": "dd8210ca-09bd-433c-d633-5114251c2c0a"
      },
      "execution_count": 40,
      "outputs": [
        {
          "output_type": "stream",
          "name": "stdout",
          "text": [
            "The shape after squeezing: (224, 224, 3)\n"
          ]
        }
      ]
    },
    {
      "cell_type": "markdown",
      "source": [
        "# Create a tensor with shape [10] and finding the index which has the maximum value"
      ],
      "metadata": {
        "id": "MgNlE1UR3GoY"
      }
    },
    {
      "cell_type": "code",
      "source": [
        "ten_tensor = tf.constant([2, 3, 4, 5, 6, 9, -1.1, 8, 10, 9])\n",
        "\n",
        "# Finding the index where value is maximum\n",
        "max_value = tf.math.argmax(ten_tensor)\n",
        "\n",
        "print(f'The indices where the value is maximum : {max_value}')\n",
        "print(\"The maximum value was {}\".format(ten_tensor[max_value]))"
      ],
      "metadata": {
        "colab": {
          "base_uri": "https://localhost:8080/"
        },
        "id": "BrRU51LV3ZPa",
        "outputId": "dad2ef93-aeb6-4808-cfe0-71ab83daf2b6"
      },
      "execution_count": 41,
      "outputs": [
        {
          "output_type": "stream",
          "name": "stdout",
          "text": [
            "The indices where the value is maximum : 8\n",
            "The maximum value was 10.0\n"
          ]
        }
      ]
    },
    {
      "cell_type": "code",
      "source": [
        "# One-hot encode the tensor (Representation of categorical variable as binary vectors)\n",
        "\n",
        "# 1. Need to cast first\n",
        "tf.cast(ten_tensor, dtype=tf.int32)"
      ],
      "metadata": {
        "colab": {
          "base_uri": "https://localhost:8080/"
        },
        "id": "l_Lj1JSw4FVL",
        "outputId": "a3080c71-746e-4ee8-cc66-a4903b1ed1d2"
      },
      "execution_count": 42,
      "outputs": [
        {
          "output_type": "execute_result",
          "data": {
            "text/plain": [
              "<tf.Tensor: shape=(10,), dtype=int32, numpy=array([ 2,  3,  4,  5,  6,  9, -1,  8, 10,  9], dtype=int32)>"
            ]
          },
          "metadata": {},
          "execution_count": 42
        }
      ]
    },
    {
      "cell_type": "code",
      "source": [
        "# One hot encoding the tensor of shape 10\n",
        "tf.one_hot(tf.cast(ten_tensor, dtype=tf.int32), depth=10)"
      ],
      "metadata": {
        "colab": {
          "base_uri": "https://localhost:8080/"
        },
        "id": "_oK5uuah46_K",
        "outputId": "a6b3f84c-0451-4212-c7f9-1d26b6980ffe"
      },
      "execution_count": 43,
      "outputs": [
        {
          "output_type": "execute_result",
          "data": {
            "text/plain": [
              "<tf.Tensor: shape=(10, 10), dtype=float32, numpy=\n",
              "array([[0., 0., 1., 0., 0., 0., 0., 0., 0., 0.],\n",
              "       [0., 0., 0., 1., 0., 0., 0., 0., 0., 0.],\n",
              "       [0., 0., 0., 0., 1., 0., 0., 0., 0., 0.],\n",
              "       [0., 0., 0., 0., 0., 1., 0., 0., 0., 0.],\n",
              "       [0., 0., 0., 0., 0., 0., 1., 0., 0., 0.],\n",
              "       [0., 0., 0., 0., 0., 0., 0., 0., 0., 1.],\n",
              "       [0., 0., 0., 0., 0., 0., 0., 0., 0., 0.],\n",
              "       [0., 0., 0., 0., 0., 0., 0., 0., 1., 0.],\n",
              "       [0., 0., 0., 0., 0., 0., 0., 0., 0., 0.],\n",
              "       [0., 0., 0., 0., 0., 0., 0., 0., 0., 1.]], dtype=float32)>"
            ]
          },
          "metadata": {},
          "execution_count": 43
        }
      ]
    },
    {
      "cell_type": "code",
      "source": [
        "gro_tensor = tf.constant([[[10, 9, 8],\n",
        "                       [1,2, 4],\n",
        "                       [8, 4, 2]\n",
        "                        ],\n",
        "                       [[10, 9, 8],\n",
        "                        [1,2, 4],\n",
        "                        [8,4,2]\n",
        "                        ]\n",
        "                       ])"
      ],
      "metadata": {
        "id": "yfkXI7az5LHE"
      },
      "execution_count": 44,
      "outputs": []
    },
    {
      "cell_type": "code",
      "source": [
        "gro_tensor.shape"
      ],
      "metadata": {
        "colab": {
          "base_uri": "https://localhost:8080/"
        },
        "id": "sh4Sa9II7YH-",
        "outputId": "9c0120b8-7f9c-49b9-fc75-00630afd2f39"
      },
      "execution_count": 45,
      "outputs": [
        {
          "output_type": "execute_result",
          "data": {
            "text/plain": [
              "TensorShape([2, 3, 3])"
            ]
          },
          "metadata": {},
          "execution_count": 45
        }
      ]
    },
    {
      "cell_type": "code",
      "source": [
        "month = tf.constant([[[1, 2, 3],\n",
        "         [4,5,6],\n",
        "         ],\n",
        "        [[7, 8, 9],\n",
        "         [3, 9, 8]],\n",
        "         [[10, 8, 9],\n",
        "         [7, 11, 8]]\n",
        "                ] )\n"
      ],
      "metadata": {
        "id": "zlL-_Hj-7cwD"
      },
      "execution_count": 50,
      "outputs": []
    },
    {
      "cell_type": "code",
      "source": [
        "tf.tensordot(gro_tensor, month, axes=1)"
      ],
      "metadata": {
        "colab": {
          "base_uri": "https://localhost:8080/"
        },
        "id": "4h8Zbj1t8GSn",
        "outputId": "b6789798-3592-4510-b868-6e368f797f27"
      },
      "execution_count": 51,
      "outputs": [
        {
          "output_type": "execute_result",
          "data": {
            "text/plain": [
              "<tf.Tensor: shape=(2, 3, 2, 3), dtype=int32, numpy=\n",
              "array([[[[153, 156, 183],\n",
              "         [123, 219, 196]],\n",
              "\n",
              "        [[ 55,  50,  57],\n",
              "         [ 38,  67,  54]],\n",
              "\n",
              "        [[ 56,  64,  78],\n",
              "         [ 58,  98,  96]]],\n",
              "\n",
              "\n",
              "       [[[153, 156, 183],\n",
              "         [123, 219, 196]],\n",
              "\n",
              "        [[ 55,  50,  57],\n",
              "         [ 38,  67,  54]],\n",
              "\n",
              "        [[ 56,  64,  78],\n",
              "         [ 58,  98,  96]]]], dtype=int32)>"
            ]
          },
          "metadata": {},
          "execution_count": 51
        }
      ]
    },
    {
      "cell_type": "code",
      "source": [
        ""
      ],
      "metadata": {
        "id": "ZZC7Cs3n8Pn7"
      },
      "execution_count": null,
      "outputs": []
    }
  ]
}